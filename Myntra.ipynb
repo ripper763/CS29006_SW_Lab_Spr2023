{
  "nbformat": 4,
  "nbformat_minor": 0,
  "metadata": {
    "colab": {
      "provenance": [],
      "include_colab_link": true
    },
    "kernelspec": {
      "name": "python3",
      "display_name": "Python 3"
    },
    "language_info": {
      "name": "python"
    }
  },
  "cells": [
    {
      "cell_type": "markdown",
      "metadata": {
        "id": "view-in-github",
        "colab_type": "text"
      },
      "source": [
        "<a href=\"https://colab.research.google.com/github/ripper763/CS29006_SW_Lab_Spr2023/blob/main/Myntra.ipynb\" target=\"_parent\"><img src=\"https://colab.research.google.com/assets/colab-badge.svg\" alt=\"Open In Colab\"/></a>"
      ]
    },
    {
      "cell_type": "code",
      "execution_count": null,
      "metadata": {
        "id": "fEtyEHOAyrJH"
      },
      "outputs": [],
      "source": [
        "import numpy as np\n",
        "import pandas as pd\n",
        "import matplotlib.pyplot as plt\n",
        "import seaborn as sns\n",
        "from sklearn.model_selection import train_test_split, cross_val_score, GridSearchCV\n",
        "from sklearn.ensemble import GradientBoostingClassifier\n",
        "from sklearn.linear_model import LogisticRegression\n",
        "from sklearn.svm import SVC\n",
        "from sklearn.metrics import accuracy_score, classification_report\n",
        "import lightgbm as lgb\n",
        "import xgboost as xgb\n",
        "from sklearn.decomposition import PCA\n",
        "from sklearn.preprocessing import StandardScaler"
      ]
    },
    {
      "cell_type": "code",
      "source": [
        "import pandas as pd\n",
        "import numpy as np\n",
        "from sklearn.model_selection import train_test_split\n",
        "from sklearn.preprocessing import StandardScaler, OneHotEncoder\n",
        "from sklearn.compose import ColumnTransformer\n",
        "from sklearn.pipeline import Pipeline\n",
        "from sklearn.ensemble import RandomForestClassifier\n",
        "from sklearn.impute import SimpleImputer\n",
        "from sklearn.compose import ColumnTransformer\n",
        "from sklearn.pipeline import Pipeline\n",
        "from sklearn.preprocessing import StandardScaler, OneHotEncoder\n",
        "from sklearn.ensemble import RandomForestClassifier\n",
        "from sklearn.metrics import classification_report"
      ],
      "metadata": {
        "collapsed": true,
        "id": "xRNUL8Qx1wWv"
      },
      "execution_count": null,
      "outputs": []
    },
    {
      "cell_type": "code",
      "source": [
        "df = pd.read_csv('Dataset myntra - summer-products (1).csv')"
      ],
      "metadata": {
        "id": "PXnoj9Mt2aMW"
      },
      "execution_count": null,
      "outputs": []
    },
    {
      "cell_type": "code",
      "source": [
        "# Feature Engineering\n",
        "def engineer_features(df):\n",
        "    # Convert price to numeric, assuming it's in string format\n",
        "    df['price'] = pd.to_numeric(df['price'], errors='coerce')\n",
        "\n",
        "    # Calculate price difference from retail price\n",
        "    df['price_diff'] = df['retail_price'] - df['price']\n",
        "\n",
        "    # Extract number of tags\n",
        "    df['tag_count'] = df['tags'].str.count(',') + 1\n",
        "\n",
        "    # Calculate total ratings\n",
        "    df['total_ratings'] = (df['rating_five_count'] + df['rating_four_count'] +\n",
        "                           df['rating_three_count'] + df['rating_two_count'] +\n",
        "                           df['rating_one_count'])\n",
        "\n",
        "    # Calculate rating ratio\n",
        "    df['rating_ratio'] = (df['rating_five_count'] + df['rating_four_count']) / df['total_ratings']\n",
        "\n",
        "    # Create 'is_trend' column (example threshold: items sold > 75th percentile)\n",
        "    df['is_trend'] = (df['units_sold'] > df['units_sold'].quantile(0.75)).astype(int)\n",
        "\n",
        "    return df\n"
      ],
      "metadata": {
        "id": "CjevDp1K36ut"
      },
      "execution_count": null,
      "outputs": []
    },
    {
      "cell_type": "code",
      "source": [
        " #Prepare features and target\n",
        "df = engineer_features(df)\n",
        "\n",
        "# Select features for the model\n",
        "numeric_features = ['price', 'price_diff', 'rating', 'rating_count', 'tag_count', 'rating_ratio', 'inventory_total']\n",
        "categorical_features = ['product_color', 'theme', 'crawl_month']\n",
        "\n",
        "# Combine all features\n",
        "features = numeric_features + categorical_features\n",
        "\n",
        "X = df[features]\n",
        "y = df['is_trend']\n",
        "\n",
        "# Split the data\n",
        "X_train, X_test, y_train, y_test = train_test_split(X, y, test_size=0.2, random_state=42)\n"
      ],
      "metadata": {
        "id": "qzrccSgv4sK1"
      },
      "execution_count": null,
      "outputs": []
    },
    {
      "cell_type": "code",
      "source": [
        "X.fillna(0, inplace=True)\n",
        "X_test.fillna(0, inplace=True)"
      ],
      "metadata": {
        "colab": {
          "base_uri": "https://localhost:8080/"
        },
        "id": "BZWF6-Nc5x8N",
        "outputId": "aa8d96a4-e33a-4f07-96e1-5dc6f474b9bc"
      },
      "execution_count": null,
      "outputs": [
        {
          "output_type": "stream",
          "name": "stderr",
          "text": [
            "<ipython-input-12-bd600549b45e>:1: SettingWithCopyWarning: \n",
            "A value is trying to be set on a copy of a slice from a DataFrame\n",
            "\n",
            "See the caveats in the documentation: https://pandas.pydata.org/pandas-docs/stable/user_guide/indexing.html#returning-a-view-versus-a-copy\n",
            "  X.fillna(0, inplace=True)\n"
          ]
        }
      ]
    },
    {
      "cell_type": "code",
      "source": [
        "X_nans = X.isna().sum().reset_index()\n",
        "X_nans[X_nans[0]!=0]\n",
        "\n",
        "X_test_nans = X_test.isna().sum().reset_index()\n",
        "X_test_nans[X_test_nans[0]!=0]"
      ],
      "metadata": {
        "colab": {
          "base_uri": "https://localhost:8080/",
          "height": 53
        },
        "id": "lPo_z0JJ54ZD",
        "outputId": "a904b418-2fa9-45c5-9c9f-caab7ac90af1"
      },
      "execution_count": null,
      "outputs": [
        {
          "output_type": "execute_result",
          "data": {
            "text/plain": [
              "Empty DataFrame\n",
              "Columns: [index, 0]\n",
              "Index: []"
            ],
            "text/html": [
              "\n",
              "  <div id=\"df-05620a2c-48d9-4ee1-8876-e6cc5dc32ed8\" class=\"colab-df-container\">\n",
              "    <div>\n",
              "<style scoped>\n",
              "    .dataframe tbody tr th:only-of-type {\n",
              "        vertical-align: middle;\n",
              "    }\n",
              "\n",
              "    .dataframe tbody tr th {\n",
              "        vertical-align: top;\n",
              "    }\n",
              "\n",
              "    .dataframe thead th {\n",
              "        text-align: right;\n",
              "    }\n",
              "</style>\n",
              "<table border=\"1\" class=\"dataframe\">\n",
              "  <thead>\n",
              "    <tr style=\"text-align: right;\">\n",
              "      <th></th>\n",
              "      <th>index</th>\n",
              "      <th>0</th>\n",
              "    </tr>\n",
              "  </thead>\n",
              "  <tbody>\n",
              "  </tbody>\n",
              "</table>\n",
              "</div>\n",
              "    <div class=\"colab-df-buttons\">\n",
              "\n",
              "  <div class=\"colab-df-container\">\n",
              "    <button class=\"colab-df-convert\" onclick=\"convertToInteractive('df-05620a2c-48d9-4ee1-8876-e6cc5dc32ed8')\"\n",
              "            title=\"Convert this dataframe to an interactive table.\"\n",
              "            style=\"display:none;\">\n",
              "\n",
              "  <svg xmlns=\"http://www.w3.org/2000/svg\" height=\"24px\" viewBox=\"0 -960 960 960\">\n",
              "    <path d=\"M120-120v-720h720v720H120Zm60-500h600v-160H180v160Zm220 220h160v-160H400v160Zm0 220h160v-160H400v160ZM180-400h160v-160H180v160Zm440 0h160v-160H620v160ZM180-180h160v-160H180v160Zm440 0h160v-160H620v160Z\"/>\n",
              "  </svg>\n",
              "    </button>\n",
              "\n",
              "  <style>\n",
              "    .colab-df-container {\n",
              "      display:flex;\n",
              "      gap: 12px;\n",
              "    }\n",
              "\n",
              "    .colab-df-convert {\n",
              "      background-color: #E8F0FE;\n",
              "      border: none;\n",
              "      border-radius: 50%;\n",
              "      cursor: pointer;\n",
              "      display: none;\n",
              "      fill: #1967D2;\n",
              "      height: 32px;\n",
              "      padding: 0 0 0 0;\n",
              "      width: 32px;\n",
              "    }\n",
              "\n",
              "    .colab-df-convert:hover {\n",
              "      background-color: #E2EBFA;\n",
              "      box-shadow: 0px 1px 2px rgba(60, 64, 67, 0.3), 0px 1px 3px 1px rgba(60, 64, 67, 0.15);\n",
              "      fill: #174EA6;\n",
              "    }\n",
              "\n",
              "    .colab-df-buttons div {\n",
              "      margin-bottom: 4px;\n",
              "    }\n",
              "\n",
              "    [theme=dark] .colab-df-convert {\n",
              "      background-color: #3B4455;\n",
              "      fill: #D2E3FC;\n",
              "    }\n",
              "\n",
              "    [theme=dark] .colab-df-convert:hover {\n",
              "      background-color: #434B5C;\n",
              "      box-shadow: 0px 1px 3px 1px rgba(0, 0, 0, 0.15);\n",
              "      filter: drop-shadow(0px 1px 2px rgba(0, 0, 0, 0.3));\n",
              "      fill: #FFFFFF;\n",
              "    }\n",
              "  </style>\n",
              "\n",
              "    <script>\n",
              "      const buttonEl =\n",
              "        document.querySelector('#df-05620a2c-48d9-4ee1-8876-e6cc5dc32ed8 button.colab-df-convert');\n",
              "      buttonEl.style.display =\n",
              "        google.colab.kernel.accessAllowed ? 'block' : 'none';\n",
              "\n",
              "      async function convertToInteractive(key) {\n",
              "        const element = document.querySelector('#df-05620a2c-48d9-4ee1-8876-e6cc5dc32ed8');\n",
              "        const dataTable =\n",
              "          await google.colab.kernel.invokeFunction('convertToInteractive',\n",
              "                                                    [key], {});\n",
              "        if (!dataTable) return;\n",
              "\n",
              "        const docLinkHtml = 'Like what you see? Visit the ' +\n",
              "          '<a target=\"_blank\" href=https://colab.research.google.com/notebooks/data_table.ipynb>data table notebook</a>'\n",
              "          + ' to learn more about interactive tables.';\n",
              "        element.innerHTML = '';\n",
              "        dataTable['output_type'] = 'display_data';\n",
              "        await google.colab.output.renderOutput(dataTable, element);\n",
              "        const docLink = document.createElement('div');\n",
              "        docLink.innerHTML = docLinkHtml;\n",
              "        element.appendChild(docLink);\n",
              "      }\n",
              "    </script>\n",
              "  </div>\n",
              "\n",
              "\n",
              "    </div>\n",
              "  </div>\n"
            ],
            "application/vnd.google.colaboratory.intrinsic+json": {
              "type": "dataframe",
              "repr_error": "Out of range float values are not JSON compliant: nan"
            }
          },
          "metadata": {},
          "execution_count": 13
        }
      ]
    },
    {
      "cell_type": "code",
      "source": [
        "preprocessor = ColumnTransformer(\n",
        "    transformers=[\n",
        "        ('num', StandardScaler(), numeric_features),\n",
        "        ('cat', OneHotEncoder(handle_unknown='ignore'), categorical_features)\n",
        "    ])\n",
        "\n",
        "# Create a pipeline\n",
        "pipeline = Pipeline([\n",
        "    ('preprocessor', preprocessor),\n",
        "    ('classifier', RandomForestClassifier(n_estimators=100, random_state=42))\n",
        "])\n",
        "\n",
        "# Fit the model\n",
        "pipeline.fit(X_train, y_train)"
      ],
      "metadata": {
        "colab": {
          "base_uri": "https://localhost:8080/",
          "height": 408
        },
        "collapsed": true,
        "id": "zwKYGbip5ctL",
        "outputId": "4c025e73-32e5-4feb-8da5-03e17f513610"
      },
      "execution_count": null,
      "outputs": [
        {
          "output_type": "error",
          "ename": "ValueError",
          "evalue": "Input X contains NaN.\nRandomForestClassifier does not accept missing values encoded as NaN natively. For supervised learning, you might want to consider sklearn.ensemble.HistGradientBoostingClassifier and Regressor which accept missing values encoded as NaNs natively. Alternatively, it is possible to preprocess the data, for instance by using an imputer transformer in a pipeline or drop samples with missing values. See https://scikit-learn.org/stable/modules/impute.html You can find a list of all estimators that handle NaN values at the following page: https://scikit-learn.org/stable/modules/impute.html#estimators-that-handle-nan-values",
          "traceback": [
            "\u001b[0;31m---------------------------------------------------------------------------\u001b[0m",
            "\u001b[0;31mValueError\u001b[0m                                Traceback (most recent call last)",
            "\u001b[0;32m<ipython-input-14-7a4c175c8ec6>\u001b[0m in \u001b[0;36m<cell line: 14>\u001b[0;34m()\u001b[0m\n\u001b[1;32m     12\u001b[0m \u001b[0;34m\u001b[0m\u001b[0m\n\u001b[1;32m     13\u001b[0m \u001b[0;31m# Fit the model\u001b[0m\u001b[0;34m\u001b[0m\u001b[0;34m\u001b[0m\u001b[0m\n\u001b[0;32m---> 14\u001b[0;31m \u001b[0mpipeline\u001b[0m\u001b[0;34m.\u001b[0m\u001b[0mfit\u001b[0m\u001b[0;34m(\u001b[0m\u001b[0mX_train\u001b[0m\u001b[0;34m,\u001b[0m \u001b[0my_train\u001b[0m\u001b[0;34m)\u001b[0m\u001b[0;34m\u001b[0m\u001b[0;34m\u001b[0m\u001b[0m\n\u001b[0m",
            "\u001b[0;32m/usr/local/lib/python3.10/dist-packages/sklearn/pipeline.py\u001b[0m in \u001b[0;36mfit\u001b[0;34m(self, X, y, **fit_params)\u001b[0m\n\u001b[1;32m    403\u001b[0m             \u001b[0;32mif\u001b[0m \u001b[0mself\u001b[0m\u001b[0;34m.\u001b[0m\u001b[0m_final_estimator\u001b[0m \u001b[0;34m!=\u001b[0m \u001b[0;34m\"passthrough\"\u001b[0m\u001b[0;34m:\u001b[0m\u001b[0;34m\u001b[0m\u001b[0;34m\u001b[0m\u001b[0m\n\u001b[1;32m    404\u001b[0m                 \u001b[0mfit_params_last_step\u001b[0m \u001b[0;34m=\u001b[0m \u001b[0mfit_params_steps\u001b[0m\u001b[0;34m[\u001b[0m\u001b[0mself\u001b[0m\u001b[0;34m.\u001b[0m\u001b[0msteps\u001b[0m\u001b[0;34m[\u001b[0m\u001b[0;34m-\u001b[0m\u001b[0;36m1\u001b[0m\u001b[0;34m]\u001b[0m\u001b[0;34m[\u001b[0m\u001b[0;36m0\u001b[0m\u001b[0;34m]\u001b[0m\u001b[0;34m]\u001b[0m\u001b[0;34m\u001b[0m\u001b[0;34m\u001b[0m\u001b[0m\n\u001b[0;32m--> 405\u001b[0;31m                 \u001b[0mself\u001b[0m\u001b[0;34m.\u001b[0m\u001b[0m_final_estimator\u001b[0m\u001b[0;34m.\u001b[0m\u001b[0mfit\u001b[0m\u001b[0;34m(\u001b[0m\u001b[0mXt\u001b[0m\u001b[0;34m,\u001b[0m \u001b[0my\u001b[0m\u001b[0;34m,\u001b[0m \u001b[0;34m**\u001b[0m\u001b[0mfit_params_last_step\u001b[0m\u001b[0;34m)\u001b[0m\u001b[0;34m\u001b[0m\u001b[0;34m\u001b[0m\u001b[0m\n\u001b[0m\u001b[1;32m    406\u001b[0m \u001b[0;34m\u001b[0m\u001b[0m\n\u001b[1;32m    407\u001b[0m         \u001b[0;32mreturn\u001b[0m \u001b[0mself\u001b[0m\u001b[0;34m\u001b[0m\u001b[0;34m\u001b[0m\u001b[0m\n",
            "\u001b[0;32m/usr/local/lib/python3.10/dist-packages/sklearn/ensemble/_forest.py\u001b[0m in \u001b[0;36mfit\u001b[0;34m(self, X, y, sample_weight)\u001b[0m\n\u001b[1;32m    343\u001b[0m         \u001b[0;32mif\u001b[0m \u001b[0missparse\u001b[0m\u001b[0;34m(\u001b[0m\u001b[0my\u001b[0m\u001b[0;34m)\u001b[0m\u001b[0;34m:\u001b[0m\u001b[0;34m\u001b[0m\u001b[0;34m\u001b[0m\u001b[0m\n\u001b[1;32m    344\u001b[0m             \u001b[0;32mraise\u001b[0m \u001b[0mValueError\u001b[0m\u001b[0;34m(\u001b[0m\u001b[0;34m\"sparse multilabel-indicator for y is not supported.\"\u001b[0m\u001b[0;34m)\u001b[0m\u001b[0;34m\u001b[0m\u001b[0;34m\u001b[0m\u001b[0m\n\u001b[0;32m--> 345\u001b[0;31m         X, y = self._validate_data(\n\u001b[0m\u001b[1;32m    346\u001b[0m             \u001b[0mX\u001b[0m\u001b[0;34m,\u001b[0m \u001b[0my\u001b[0m\u001b[0;34m,\u001b[0m \u001b[0mmulti_output\u001b[0m\u001b[0;34m=\u001b[0m\u001b[0;32mTrue\u001b[0m\u001b[0;34m,\u001b[0m \u001b[0maccept_sparse\u001b[0m\u001b[0;34m=\u001b[0m\u001b[0;34m\"csc\"\u001b[0m\u001b[0;34m,\u001b[0m \u001b[0mdtype\u001b[0m\u001b[0;34m=\u001b[0m\u001b[0mDTYPE\u001b[0m\u001b[0;34m\u001b[0m\u001b[0;34m\u001b[0m\u001b[0m\n\u001b[1;32m    347\u001b[0m         )\n",
            "\u001b[0;32m/usr/local/lib/python3.10/dist-packages/sklearn/base.py\u001b[0m in \u001b[0;36m_validate_data\u001b[0;34m(self, X, y, reset, validate_separately, **check_params)\u001b[0m\n\u001b[1;32m    582\u001b[0m                 \u001b[0my\u001b[0m \u001b[0;34m=\u001b[0m \u001b[0mcheck_array\u001b[0m\u001b[0;34m(\u001b[0m\u001b[0my\u001b[0m\u001b[0;34m,\u001b[0m \u001b[0minput_name\u001b[0m\u001b[0;34m=\u001b[0m\u001b[0;34m\"y\"\u001b[0m\u001b[0;34m,\u001b[0m \u001b[0;34m**\u001b[0m\u001b[0mcheck_y_params\u001b[0m\u001b[0;34m)\u001b[0m\u001b[0;34m\u001b[0m\u001b[0;34m\u001b[0m\u001b[0m\n\u001b[1;32m    583\u001b[0m             \u001b[0;32melse\u001b[0m\u001b[0;34m:\u001b[0m\u001b[0;34m\u001b[0m\u001b[0;34m\u001b[0m\u001b[0m\n\u001b[0;32m--> 584\u001b[0;31m                 \u001b[0mX\u001b[0m\u001b[0;34m,\u001b[0m \u001b[0my\u001b[0m \u001b[0;34m=\u001b[0m \u001b[0mcheck_X_y\u001b[0m\u001b[0;34m(\u001b[0m\u001b[0mX\u001b[0m\u001b[0;34m,\u001b[0m \u001b[0my\u001b[0m\u001b[0;34m,\u001b[0m \u001b[0;34m**\u001b[0m\u001b[0mcheck_params\u001b[0m\u001b[0;34m)\u001b[0m\u001b[0;34m\u001b[0m\u001b[0;34m\u001b[0m\u001b[0m\n\u001b[0m\u001b[1;32m    585\u001b[0m             \u001b[0mout\u001b[0m \u001b[0;34m=\u001b[0m \u001b[0mX\u001b[0m\u001b[0;34m,\u001b[0m \u001b[0my\u001b[0m\u001b[0;34m\u001b[0m\u001b[0;34m\u001b[0m\u001b[0m\n\u001b[1;32m    586\u001b[0m \u001b[0;34m\u001b[0m\u001b[0m\n",
            "\u001b[0;32m/usr/local/lib/python3.10/dist-packages/sklearn/utils/validation.py\u001b[0m in \u001b[0;36mcheck_X_y\u001b[0;34m(X, y, accept_sparse, accept_large_sparse, dtype, order, copy, force_all_finite, ensure_2d, allow_nd, multi_output, ensure_min_samples, ensure_min_features, y_numeric, estimator)\u001b[0m\n\u001b[1;32m   1104\u001b[0m         )\n\u001b[1;32m   1105\u001b[0m \u001b[0;34m\u001b[0m\u001b[0m\n\u001b[0;32m-> 1106\u001b[0;31m     X = check_array(\n\u001b[0m\u001b[1;32m   1107\u001b[0m         \u001b[0mX\u001b[0m\u001b[0;34m,\u001b[0m\u001b[0;34m\u001b[0m\u001b[0;34m\u001b[0m\u001b[0m\n\u001b[1;32m   1108\u001b[0m         \u001b[0maccept_sparse\u001b[0m\u001b[0;34m=\u001b[0m\u001b[0maccept_sparse\u001b[0m\u001b[0;34m,\u001b[0m\u001b[0;34m\u001b[0m\u001b[0;34m\u001b[0m\u001b[0m\n",
            "\u001b[0;32m/usr/local/lib/python3.10/dist-packages/sklearn/utils/validation.py\u001b[0m in \u001b[0;36mcheck_array\u001b[0;34m(array, accept_sparse, accept_large_sparse, dtype, order, copy, force_all_finite, ensure_2d, allow_nd, ensure_min_samples, ensure_min_features, estimator, input_name)\u001b[0m\n\u001b[1;32m    843\u001b[0m     \u001b[0;32mif\u001b[0m \u001b[0msp\u001b[0m\u001b[0;34m.\u001b[0m\u001b[0missparse\u001b[0m\u001b[0;34m(\u001b[0m\u001b[0marray\u001b[0m\u001b[0;34m)\u001b[0m\u001b[0;34m:\u001b[0m\u001b[0;34m\u001b[0m\u001b[0;34m\u001b[0m\u001b[0m\n\u001b[1;32m    844\u001b[0m         \u001b[0m_ensure_no_complex_data\u001b[0m\u001b[0;34m(\u001b[0m\u001b[0marray\u001b[0m\u001b[0;34m)\u001b[0m\u001b[0;34m\u001b[0m\u001b[0;34m\u001b[0m\u001b[0m\n\u001b[0;32m--> 845\u001b[0;31m         array = _ensure_sparse_format(\n\u001b[0m\u001b[1;32m    846\u001b[0m             \u001b[0marray\u001b[0m\u001b[0;34m,\u001b[0m\u001b[0;34m\u001b[0m\u001b[0;34m\u001b[0m\u001b[0m\n\u001b[1;32m    847\u001b[0m             \u001b[0maccept_sparse\u001b[0m\u001b[0;34m=\u001b[0m\u001b[0maccept_sparse\u001b[0m\u001b[0;34m,\u001b[0m\u001b[0;34m\u001b[0m\u001b[0;34m\u001b[0m\u001b[0m\n",
            "\u001b[0;32m/usr/local/lib/python3.10/dist-packages/sklearn/utils/validation.py\u001b[0m in \u001b[0;36m_ensure_sparse_format\u001b[0;34m(spmatrix, accept_sparse, dtype, copy, force_all_finite, accept_large_sparse, estimator_name, input_name)\u001b[0m\n\u001b[1;32m    559\u001b[0m             )\n\u001b[1;32m    560\u001b[0m         \u001b[0;32melse\u001b[0m\u001b[0;34m:\u001b[0m\u001b[0;34m\u001b[0m\u001b[0;34m\u001b[0m\u001b[0m\n\u001b[0;32m--> 561\u001b[0;31m             _assert_all_finite(\n\u001b[0m\u001b[1;32m    562\u001b[0m                 \u001b[0mspmatrix\u001b[0m\u001b[0;34m.\u001b[0m\u001b[0mdata\u001b[0m\u001b[0;34m,\u001b[0m\u001b[0;34m\u001b[0m\u001b[0;34m\u001b[0m\u001b[0m\n\u001b[1;32m    563\u001b[0m                 \u001b[0mallow_nan\u001b[0m\u001b[0;34m=\u001b[0m\u001b[0mforce_all_finite\u001b[0m \u001b[0;34m==\u001b[0m \u001b[0;34m\"allow-nan\"\u001b[0m\u001b[0;34m,\u001b[0m\u001b[0;34m\u001b[0m\u001b[0;34m\u001b[0m\u001b[0m\n",
            "\u001b[0;32m/usr/local/lib/python3.10/dist-packages/sklearn/utils/validation.py\u001b[0m in \u001b[0;36m_assert_all_finite\u001b[0;34m(X, allow_nan, msg_dtype, estimator_name, input_name)\u001b[0m\n\u001b[1;32m    159\u001b[0m                 \u001b[0;34m\"#estimators-that-handle-nan-values\"\u001b[0m\u001b[0;34m\u001b[0m\u001b[0;34m\u001b[0m\u001b[0m\n\u001b[1;32m    160\u001b[0m             )\n\u001b[0;32m--> 161\u001b[0;31m         \u001b[0;32mraise\u001b[0m \u001b[0mValueError\u001b[0m\u001b[0;34m(\u001b[0m\u001b[0mmsg_err\u001b[0m\u001b[0;34m)\u001b[0m\u001b[0;34m\u001b[0m\u001b[0;34m\u001b[0m\u001b[0m\n\u001b[0m\u001b[1;32m    162\u001b[0m \u001b[0;34m\u001b[0m\u001b[0m\n\u001b[1;32m    163\u001b[0m \u001b[0;34m\u001b[0m\u001b[0m\n",
            "\u001b[0;31mValueError\u001b[0m: Input X contains NaN.\nRandomForestClassifier does not accept missing values encoded as NaN natively. For supervised learning, you might want to consider sklearn.ensemble.HistGradientBoostingClassifier and Regressor which accept missing values encoded as NaNs natively. Alternatively, it is possible to preprocess the data, for instance by using an imputer transformer in a pipeline or drop samples with missing values. See https://scikit-learn.org/stable/modules/impute.html You can find a list of all estimators that handle NaN values at the following page: https://scikit-learn.org/stable/modules/impute.html#estimators-that-handle-nan-values"
          ]
        }
      ]
    },
    {
      "cell_type": "code",
      "source": [
        "# Create preprocessor with imputation\n",
        "numeric_transformer = Pipeline(steps=[\n",
        "    ('imputer', SimpleImputer(strategy='median')),\n",
        "    ('scaler', StandardScaler())\n",
        "])\n",
        "\n",
        "categorical_transformer = Pipeline(steps=[\n",
        "    ('imputer', SimpleImputer(strategy='constant', fill_value='missing')),\n",
        "    ('onehot', OneHotEncoder(handle_unknown='ignore'))\n",
        "])\n",
        "\n",
        "preprocessor = ColumnTransformer(\n",
        "    transformers=[\n",
        "        ('num', numeric_transformer, numeric_features),\n",
        "        ('cat', categorical_transformer, categorical_features)\n",
        "    ])\n",
        "\n",
        "# Create a pipeline\n",
        "pipeline = Pipeline([\n",
        "    ('preprocessor', preprocessor),\n",
        "    ('classifier', RandomForestClassifier(n_estimators=100, random_state=42))\n",
        "])\n",
        "\n",
        "# Fit the model\n",
        "pipeline.fit(X_train, y_train)"
      ],
      "metadata": {
        "colab": {
          "base_uri": "https://localhost:8080/",
          "height": 225
        },
        "id": "2jI9wl8C5o1T",
        "outputId": "664fc9c3-74a8-4bc3-fc3a-d308fac57889"
      },
      "execution_count": null,
      "outputs": [
        {
          "output_type": "execute_result",
          "data": {
            "text/plain": [
              "Pipeline(steps=[('preprocessor',\n",
              "                 ColumnTransformer(transformers=[('num',\n",
              "                                                  Pipeline(steps=[('imputer',\n",
              "                                                                   SimpleImputer(strategy='median')),\n",
              "                                                                  ('scaler',\n",
              "                                                                   StandardScaler())]),\n",
              "                                                  ['price', 'price_diff',\n",
              "                                                   'rating', 'rating_count',\n",
              "                                                   'tag_count', 'rating_ratio',\n",
              "                                                   'inventory_total']),\n",
              "                                                 ('cat',\n",
              "                                                  Pipeline(steps=[('imputer',\n",
              "                                                                   SimpleImputer(fill_value='missing',\n",
              "                                                                                 strategy='constant')),\n",
              "                                                                  ('onehot',\n",
              "                                                                   OneHotEncoder(handle_unknown='ignore'))]),\n",
              "                                                  ['product_color', 'theme',\n",
              "                                                   'crawl_month'])])),\n",
              "                ('classifier', RandomForestClassifier(random_state=42))])"
            ],
            "text/html": [
              "<style>#sk-container-id-2 {color: black;background-color: white;}#sk-container-id-2 pre{padding: 0;}#sk-container-id-2 div.sk-toggleable {background-color: white;}#sk-container-id-2 label.sk-toggleable__label {cursor: pointer;display: block;width: 100%;margin-bottom: 0;padding: 0.3em;box-sizing: border-box;text-align: center;}#sk-container-id-2 label.sk-toggleable__label-arrow:before {content: \"▸\";float: left;margin-right: 0.25em;color: #696969;}#sk-container-id-2 label.sk-toggleable__label-arrow:hover:before {color: black;}#sk-container-id-2 div.sk-estimator:hover label.sk-toggleable__label-arrow:before {color: black;}#sk-container-id-2 div.sk-toggleable__content {max-height: 0;max-width: 0;overflow: hidden;text-align: left;background-color: #f0f8ff;}#sk-container-id-2 div.sk-toggleable__content pre {margin: 0.2em;color: black;border-radius: 0.25em;background-color: #f0f8ff;}#sk-container-id-2 input.sk-toggleable__control:checked~div.sk-toggleable__content {max-height: 200px;max-width: 100%;overflow: auto;}#sk-container-id-2 input.sk-toggleable__control:checked~label.sk-toggleable__label-arrow:before {content: \"▾\";}#sk-container-id-2 div.sk-estimator input.sk-toggleable__control:checked~label.sk-toggleable__label {background-color: #d4ebff;}#sk-container-id-2 div.sk-label input.sk-toggleable__control:checked~label.sk-toggleable__label {background-color: #d4ebff;}#sk-container-id-2 input.sk-hidden--visually {border: 0;clip: rect(1px 1px 1px 1px);clip: rect(1px, 1px, 1px, 1px);height: 1px;margin: -1px;overflow: hidden;padding: 0;position: absolute;width: 1px;}#sk-container-id-2 div.sk-estimator {font-family: monospace;background-color: #f0f8ff;border: 1px dotted black;border-radius: 0.25em;box-sizing: border-box;margin-bottom: 0.5em;}#sk-container-id-2 div.sk-estimator:hover {background-color: #d4ebff;}#sk-container-id-2 div.sk-parallel-item::after {content: \"\";width: 100%;border-bottom: 1px solid gray;flex-grow: 1;}#sk-container-id-2 div.sk-label:hover label.sk-toggleable__label {background-color: #d4ebff;}#sk-container-id-2 div.sk-serial::before {content: \"\";position: absolute;border-left: 1px solid gray;box-sizing: border-box;top: 0;bottom: 0;left: 50%;z-index: 0;}#sk-container-id-2 div.sk-serial {display: flex;flex-direction: column;align-items: center;background-color: white;padding-right: 0.2em;padding-left: 0.2em;position: relative;}#sk-container-id-2 div.sk-item {position: relative;z-index: 1;}#sk-container-id-2 div.sk-parallel {display: flex;align-items: stretch;justify-content: center;background-color: white;position: relative;}#sk-container-id-2 div.sk-item::before, #sk-container-id-2 div.sk-parallel-item::before {content: \"\";position: absolute;border-left: 1px solid gray;box-sizing: border-box;top: 0;bottom: 0;left: 50%;z-index: -1;}#sk-container-id-2 div.sk-parallel-item {display: flex;flex-direction: column;z-index: 1;position: relative;background-color: white;}#sk-container-id-2 div.sk-parallel-item:first-child::after {align-self: flex-end;width: 50%;}#sk-container-id-2 div.sk-parallel-item:last-child::after {align-self: flex-start;width: 50%;}#sk-container-id-2 div.sk-parallel-item:only-child::after {width: 0;}#sk-container-id-2 div.sk-dashed-wrapped {border: 1px dashed gray;margin: 0 0.4em 0.5em 0.4em;box-sizing: border-box;padding-bottom: 0.4em;background-color: white;}#sk-container-id-2 div.sk-label label {font-family: monospace;font-weight: bold;display: inline-block;line-height: 1.2em;}#sk-container-id-2 div.sk-label-container {text-align: center;}#sk-container-id-2 div.sk-container {/* jupyter's `normalize.less` sets `[hidden] { display: none; }` but bootstrap.min.css set `[hidden] { display: none !important; }` so we also need the `!important` here to be able to override the default hidden behavior on the sphinx rendered scikit-learn.org. See: https://github.com/scikit-learn/scikit-learn/issues/21755 */display: inline-block !important;position: relative;}#sk-container-id-2 div.sk-text-repr-fallback {display: none;}</style><div id=\"sk-container-id-2\" class=\"sk-top-container\"><div class=\"sk-text-repr-fallback\"><pre>Pipeline(steps=[(&#x27;preprocessor&#x27;,\n",
              "                 ColumnTransformer(transformers=[(&#x27;num&#x27;,\n",
              "                                                  Pipeline(steps=[(&#x27;imputer&#x27;,\n",
              "                                                                   SimpleImputer(strategy=&#x27;median&#x27;)),\n",
              "                                                                  (&#x27;scaler&#x27;,\n",
              "                                                                   StandardScaler())]),\n",
              "                                                  [&#x27;price&#x27;, &#x27;price_diff&#x27;,\n",
              "                                                   &#x27;rating&#x27;, &#x27;rating_count&#x27;,\n",
              "                                                   &#x27;tag_count&#x27;, &#x27;rating_ratio&#x27;,\n",
              "                                                   &#x27;inventory_total&#x27;]),\n",
              "                                                 (&#x27;cat&#x27;,\n",
              "                                                  Pipeline(steps=[(&#x27;imputer&#x27;,\n",
              "                                                                   SimpleImputer(fill_value=&#x27;missing&#x27;,\n",
              "                                                                                 strategy=&#x27;constant&#x27;)),\n",
              "                                                                  (&#x27;onehot&#x27;,\n",
              "                                                                   OneHotEncoder(handle_unknown=&#x27;ignore&#x27;))]),\n",
              "                                                  [&#x27;product_color&#x27;, &#x27;theme&#x27;,\n",
              "                                                   &#x27;crawl_month&#x27;])])),\n",
              "                (&#x27;classifier&#x27;, RandomForestClassifier(random_state=42))])</pre><b>In a Jupyter environment, please rerun this cell to show the HTML representation or trust the notebook. <br />On GitHub, the HTML representation is unable to render, please try loading this page with nbviewer.org.</b></div><div class=\"sk-container\" hidden><div class=\"sk-item sk-dashed-wrapped\"><div class=\"sk-label-container\"><div class=\"sk-label sk-toggleable\"><input class=\"sk-toggleable__control sk-hidden--visually\" id=\"sk-estimator-id-10\" type=\"checkbox\" ><label for=\"sk-estimator-id-10\" class=\"sk-toggleable__label sk-toggleable__label-arrow\">Pipeline</label><div class=\"sk-toggleable__content\"><pre>Pipeline(steps=[(&#x27;preprocessor&#x27;,\n",
              "                 ColumnTransformer(transformers=[(&#x27;num&#x27;,\n",
              "                                                  Pipeline(steps=[(&#x27;imputer&#x27;,\n",
              "                                                                   SimpleImputer(strategy=&#x27;median&#x27;)),\n",
              "                                                                  (&#x27;scaler&#x27;,\n",
              "                                                                   StandardScaler())]),\n",
              "                                                  [&#x27;price&#x27;, &#x27;price_diff&#x27;,\n",
              "                                                   &#x27;rating&#x27;, &#x27;rating_count&#x27;,\n",
              "                                                   &#x27;tag_count&#x27;, &#x27;rating_ratio&#x27;,\n",
              "                                                   &#x27;inventory_total&#x27;]),\n",
              "                                                 (&#x27;cat&#x27;,\n",
              "                                                  Pipeline(steps=[(&#x27;imputer&#x27;,\n",
              "                                                                   SimpleImputer(fill_value=&#x27;missing&#x27;,\n",
              "                                                                                 strategy=&#x27;constant&#x27;)),\n",
              "                                                                  (&#x27;onehot&#x27;,\n",
              "                                                                   OneHotEncoder(handle_unknown=&#x27;ignore&#x27;))]),\n",
              "                                                  [&#x27;product_color&#x27;, &#x27;theme&#x27;,\n",
              "                                                   &#x27;crawl_month&#x27;])])),\n",
              "                (&#x27;classifier&#x27;, RandomForestClassifier(random_state=42))])</pre></div></div></div><div class=\"sk-serial\"><div class=\"sk-item sk-dashed-wrapped\"><div class=\"sk-label-container\"><div class=\"sk-label sk-toggleable\"><input class=\"sk-toggleable__control sk-hidden--visually\" id=\"sk-estimator-id-11\" type=\"checkbox\" ><label for=\"sk-estimator-id-11\" class=\"sk-toggleable__label sk-toggleable__label-arrow\">preprocessor: ColumnTransformer</label><div class=\"sk-toggleable__content\"><pre>ColumnTransformer(transformers=[(&#x27;num&#x27;,\n",
              "                                 Pipeline(steps=[(&#x27;imputer&#x27;,\n",
              "                                                  SimpleImputer(strategy=&#x27;median&#x27;)),\n",
              "                                                 (&#x27;scaler&#x27;, StandardScaler())]),\n",
              "                                 [&#x27;price&#x27;, &#x27;price_diff&#x27;, &#x27;rating&#x27;,\n",
              "                                  &#x27;rating_count&#x27;, &#x27;tag_count&#x27;, &#x27;rating_ratio&#x27;,\n",
              "                                  &#x27;inventory_total&#x27;]),\n",
              "                                (&#x27;cat&#x27;,\n",
              "                                 Pipeline(steps=[(&#x27;imputer&#x27;,\n",
              "                                                  SimpleImputer(fill_value=&#x27;missing&#x27;,\n",
              "                                                                strategy=&#x27;constant&#x27;)),\n",
              "                                                 (&#x27;onehot&#x27;,\n",
              "                                                  OneHotEncoder(handle_unknown=&#x27;ignore&#x27;))]),\n",
              "                                 [&#x27;product_color&#x27;, &#x27;theme&#x27;, &#x27;crawl_month&#x27;])])</pre></div></div></div><div class=\"sk-parallel\"><div class=\"sk-parallel-item\"><div class=\"sk-item\"><div class=\"sk-label-container\"><div class=\"sk-label sk-toggleable\"><input class=\"sk-toggleable__control sk-hidden--visually\" id=\"sk-estimator-id-12\" type=\"checkbox\" ><label for=\"sk-estimator-id-12\" class=\"sk-toggleable__label sk-toggleable__label-arrow\">num</label><div class=\"sk-toggleable__content\"><pre>[&#x27;price&#x27;, &#x27;price_diff&#x27;, &#x27;rating&#x27;, &#x27;rating_count&#x27;, &#x27;tag_count&#x27;, &#x27;rating_ratio&#x27;, &#x27;inventory_total&#x27;]</pre></div></div></div><div class=\"sk-serial\"><div class=\"sk-item\"><div class=\"sk-serial\"><div class=\"sk-item\"><div class=\"sk-estimator sk-toggleable\"><input class=\"sk-toggleable__control sk-hidden--visually\" id=\"sk-estimator-id-13\" type=\"checkbox\" ><label for=\"sk-estimator-id-13\" class=\"sk-toggleable__label sk-toggleable__label-arrow\">SimpleImputer</label><div class=\"sk-toggleable__content\"><pre>SimpleImputer(strategy=&#x27;median&#x27;)</pre></div></div></div><div class=\"sk-item\"><div class=\"sk-estimator sk-toggleable\"><input class=\"sk-toggleable__control sk-hidden--visually\" id=\"sk-estimator-id-14\" type=\"checkbox\" ><label for=\"sk-estimator-id-14\" class=\"sk-toggleable__label sk-toggleable__label-arrow\">StandardScaler</label><div class=\"sk-toggleable__content\"><pre>StandardScaler()</pre></div></div></div></div></div></div></div></div><div class=\"sk-parallel-item\"><div class=\"sk-item\"><div class=\"sk-label-container\"><div class=\"sk-label sk-toggleable\"><input class=\"sk-toggleable__control sk-hidden--visually\" id=\"sk-estimator-id-15\" type=\"checkbox\" ><label for=\"sk-estimator-id-15\" class=\"sk-toggleable__label sk-toggleable__label-arrow\">cat</label><div class=\"sk-toggleable__content\"><pre>[&#x27;product_color&#x27;, &#x27;theme&#x27;, &#x27;crawl_month&#x27;]</pre></div></div></div><div class=\"sk-serial\"><div class=\"sk-item\"><div class=\"sk-serial\"><div class=\"sk-item\"><div class=\"sk-estimator sk-toggleable\"><input class=\"sk-toggleable__control sk-hidden--visually\" id=\"sk-estimator-id-16\" type=\"checkbox\" ><label for=\"sk-estimator-id-16\" class=\"sk-toggleable__label sk-toggleable__label-arrow\">SimpleImputer</label><div class=\"sk-toggleable__content\"><pre>SimpleImputer(fill_value=&#x27;missing&#x27;, strategy=&#x27;constant&#x27;)</pre></div></div></div><div class=\"sk-item\"><div class=\"sk-estimator sk-toggleable\"><input class=\"sk-toggleable__control sk-hidden--visually\" id=\"sk-estimator-id-17\" type=\"checkbox\" ><label for=\"sk-estimator-id-17\" class=\"sk-toggleable__label sk-toggleable__label-arrow\">OneHotEncoder</label><div class=\"sk-toggleable__content\"><pre>OneHotEncoder(handle_unknown=&#x27;ignore&#x27;)</pre></div></div></div></div></div></div></div></div></div></div><div class=\"sk-item\"><div class=\"sk-estimator sk-toggleable\"><input class=\"sk-toggleable__control sk-hidden--visually\" id=\"sk-estimator-id-18\" type=\"checkbox\" ><label for=\"sk-estimator-id-18\" class=\"sk-toggleable__label sk-toggleable__label-arrow\">RandomForestClassifier</label><div class=\"sk-toggleable__content\"><pre>RandomForestClassifier(random_state=42)</pre></div></div></div></div></div></div></div>"
            ]
          },
          "metadata": {},
          "execution_count": 46
        }
      ]
    },
    {
      "cell_type": "code",
      "source": [
        "# Make predictions\n",
        "y_pred = pipeline.predict(X_test)\n",
        "\n",
        "# Print classification report\n",
        "print(classification_report(y_test, y_pred))\n"
      ],
      "metadata": {
        "colab": {
          "base_uri": "https://localhost:8080/"
        },
        "id": "cHzuUZ8W6cVL",
        "outputId": "f7fb2910-cafd-4214-e382-7b5a8df16037"
      },
      "execution_count": null,
      "outputs": [
        {
          "output_type": "stream",
          "name": "stdout",
          "text": [
            "              precision    recall  f1-score   support\n",
            "\n",
            "           0       0.95      0.97      0.96       260\n",
            "           1       0.84      0.75      0.79        55\n",
            "\n",
            "    accuracy                           0.93       315\n",
            "   macro avg       0.89      0.86      0.87       315\n",
            "weighted avg       0.93      0.93      0.93       315\n",
            "\n"
          ]
        }
      ]
    },
    {
      "cell_type": "code",
      "source": [
        "y_pred"
      ],
      "metadata": {
        "colab": {
          "base_uri": "https://localhost:8080/"
        },
        "id": "FfxDpoNp8o6z",
        "outputId": "20e39150-dcd2-4e0f-8df1-ca6edc0aad59"
      },
      "execution_count": null,
      "outputs": [
        {
          "output_type": "execute_result",
          "data": {
            "text/plain": [
              "array([0, 0, 0, 0, 0, 0, 0, 0, 0, 0, 0, 1, 0, 0, 1, 0, 0, 0, 0, 0, 0, 0,\n",
              "       0, 0, 0, 0, 0, 0, 1, 0, 0, 0, 0, 0, 0, 0, 0, 1, 1, 0, 0, 0, 0, 0,\n",
              "       0, 0, 0, 0, 0, 0, 0, 0, 0, 0, 0, 0, 0, 1, 0, 0, 0, 0, 0, 1, 0, 0,\n",
              "       0, 0, 0, 0, 0, 0, 0, 0, 1, 1, 0, 0, 1, 0, 0, 0, 0, 0, 1, 0, 0, 0,\n",
              "       0, 0, 0, 0, 0, 0, 0, 1, 0, 0, 0, 0, 0, 0, 0, 0, 1, 0, 0, 0, 1, 0,\n",
              "       0, 0, 0, 1, 1, 0, 0, 0, 0, 0, 0, 0, 1, 1, 0, 0, 1, 0, 0, 0, 1, 0,\n",
              "       0, 0, 0, 0, 0, 0, 0, 0, 0, 0, 0, 1, 0, 1, 0, 0, 0, 0, 0, 0, 0, 0,\n",
              "       0, 0, 0, 0, 0, 0, 0, 0, 0, 0, 0, 0, 1, 0, 0, 0, 0, 0, 0, 1, 0, 0,\n",
              "       1, 0, 0, 0, 0, 0, 0, 1, 0, 0, 0, 0, 1, 0, 1, 0, 0, 0, 0, 0, 0, 0,\n",
              "       0, 0, 0, 0, 1, 0, 0, 0, 0, 1, 0, 1, 0, 0, 0, 1, 0, 0, 0, 0, 0, 0,\n",
              "       0, 0, 0, 0, 0, 0, 0, 0, 1, 1, 0, 0, 0, 0, 0, 0, 1, 0, 0, 0, 1, 0,\n",
              "       0, 1, 0, 0, 1, 0, 0, 0, 0, 0, 0, 1, 0, 0, 1, 0, 0, 0, 1, 0, 0, 1,\n",
              "       0, 1, 0, 0, 1, 0, 0, 0, 0, 0, 1, 0, 0, 0, 1, 0, 0, 0, 0, 0, 0, 0,\n",
              "       0, 0, 0, 0, 0, 0, 0, 1, 0, 1, 0, 0, 0, 0, 0, 0, 0, 0, 0, 0, 0, 0,\n",
              "       0, 0, 0, 0, 0, 1, 0])"
            ]
          },
          "metadata": {},
          "execution_count": 56
        }
      ]
    },
    {
      "cell_type": "code",
      "source": [
        "import numpy as np\n",
        "\n",
        "def get_feature_names(column_transformer):\n",
        "    feature_names = []\n",
        "    for name, pipe, features in column_transformer.transformers_:\n",
        "        if name != 'remainder':\n",
        "            if isinstance(pipe, Pipeline):\n",
        "                if isinstance(pipe.steps[-1][1], OneHotEncoder):\n",
        "                    # Use get_feature_names_out() instead of get_feature_names()\n",
        "                    feature_names.extend(pipe.steps[-1][1].get_feature_names_out(features).tolist())\n",
        "                else:\n",
        "                    feature_names.extend(features)\n",
        "            elif isinstance(pipe, OneHotEncoder):\n",
        "                # Use get_feature_names_out() instead of get_feature_names()\n",
        "                feature_names.extend(pipe.get_feature_names_out(features).tolist())\n",
        "            else:\n",
        "                feature_names.extend(features)\n",
        "    return feature_names\n",
        "\n",
        "# Get feature names\n",
        "feature_names = get_feature_names(pipeline.named_steps['preprocessor'])\n",
        "\n",
        "# Get feature importances\n",
        "feature_importance = pipeline.named_steps['classifier'].feature_importances_\n",
        "\n",
        "# Create a dataframe of feature importances\n",
        "feature_importance_df = pd.DataFrame({'feature': feature_names, 'importance': feature_importance})\n",
        "feature_importance_df = feature_importance_df.sort_values('importance', ascending=False)\n",
        "\n",
        "print(\"\\nTop 10 Important Features:\")\n",
        "print(feature_importance_df.head(10))"
      ],
      "metadata": {
        "colab": {
          "base_uri": "https://localhost:8080/"
        },
        "id": "DhRLkYeI6nYR",
        "outputId": "637107be-9814-41c9-f122-df2e14d9f9fb"
      },
      "execution_count": null,
      "outputs": [
        {
          "output_type": "stream",
          "name": "stdout",
          "text": [
            "\n",
            "Top 10 Important Features:\n",
            "                 feature  importance\n",
            "3           rating_count    0.661098\n",
            "2                 rating    0.066588\n",
            "5           rating_ratio    0.062996\n",
            "0                  price    0.041505\n",
            "4              tag_count    0.041343\n",
            "1             price_diff    0.040416\n",
            "80  product_color_purple    0.006345\n",
            "91   product_color_white    0.005095\n",
            "18   product_color_black    0.004596\n",
            "74    product_color_pink    0.003769\n"
          ]
        }
      ]
    },
    {
      "cell_type": "code",
      "source": [
        "#Function to predict trend probability for new items\n",
        "def predict_trend_probability(new_items):\n",
        "    return pipeline.predict_proba(new_items)[:, 1]\n",
        "\n",
        "# Example usage:\n",
        "new_items = X_test.head(10)  # Just using first 5 items from test set as an example\n",
        "probabilities = predict_trend_probability(new_items)\n",
        "print(\"\\nTrend Probabilities for New Items:\")\n",
        "print(probabilities)"
      ],
      "metadata": {
        "colab": {
          "base_uri": "https://localhost:8080/"
        },
        "id": "RaonwGFw6sgb",
        "outputId": "20a4c28a-4313-41a2-ec43-195f5defc34d"
      },
      "execution_count": null,
      "outputs": [
        {
          "output_type": "stream",
          "name": "stdout",
          "text": [
            "\n",
            "Trend Probabilities for New Items:\n",
            "[0.   0.49 0.   0.06 0.04 0.03 0.04 0.   0.11 0.03]\n"
          ]
        }
      ]
    },
    {
      "cell_type": "code",
      "source": [
        "# Fit the model\n",
        "pipeline.fit(X_train, y_train)\n",
        "\n",
        "# Function to predict trend probability\n",
        "def predict_trend_probability(items):\n",
        "    return pipeline.predict_proba(items)[:, 1]\n",
        "\n",
        "# Predict on test set\n",
        "y_pred = pipeline.predict(X_test)\n",
        "y_pred_proba = predict_trend_probability(X_test)\n",
        "\n",
        "# Create a copy of X_test to add our predictions\n",
        "results = X_test.copy()"
      ],
      "metadata": {
        "id": "BQ-mAAAd7SZy"
      },
      "execution_count": null,
      "outputs": []
    },
    {
      "cell_type": "code",
      "source": [
        "# Add columns for true labels, predicted labels, and probability\n",
        "results['true_label'] = y_test\n",
        "results['predicted_label'] = y_pred\n",
        "results['trend_probability'] = y_pred_proba\n",
        "\n",
        "# Categorize as trending or anti-trending\n",
        "# Let's say items with >70% probability are trending, <30% are anti-trending\n",
        "def categorize_trend(probability):\n",
        "    if probability > 0.8:\n",
        "        return 'Top Trending'\n",
        "    elif probability > 0.65 and probability < 0.8:\n",
        "        return 'Trending'\n",
        "    elif probability < 0.15:\n",
        "        return 'Top Anti-trending'\n",
        "    elif probability < 0.3 and probability >0.15:\n",
        "        return 'Anti-trending'\n",
        "    else:\n",
        "        return 'Neutral'\n",
        "\n",
        "results['trend_category'] = results['trend_probability'].apply(categorize_trend)\n"
      ],
      "metadata": {
        "id": "tcWwoscg7fkJ"
      },
      "execution_count": null,
      "outputs": []
    },
    {
      "cell_type": "code",
      "source": [
        "# Print classification report\n",
        "print(\"Classification Report:\")\n",
        "print(classification_report(y_test, y_pred))"
      ],
      "metadata": {
        "colab": {
          "base_uri": "https://localhost:8080/"
        },
        "id": "c5hYcBxV-k4g",
        "outputId": "637ab0c4-f51a-4ce8-a1c1-52322d02a9ec"
      },
      "execution_count": null,
      "outputs": [
        {
          "output_type": "stream",
          "name": "stdout",
          "text": [
            "Classification Report:\n",
            "              precision    recall  f1-score   support\n",
            "\n",
            "           0       0.95      0.97      0.96       260\n",
            "           1       0.84      0.75      0.79        55\n",
            "\n",
            "    accuracy                           0.93       315\n",
            "   macro avg       0.89      0.86      0.87       315\n",
            "weighted avg       0.93      0.93      0.93       315\n",
            "\n"
          ]
        }
      ]
    },
    {
      "cell_type": "code",
      "source": [
        "# Print summary of results\n",
        "print(\"\\nSummary of Results:\")\n",
        "print(results['trend_category'].value_counts())"
      ],
      "metadata": {
        "colab": {
          "base_uri": "https://localhost:8080/"
        },
        "id": "VKsazLTb-nw_",
        "outputId": "5a480c06-cc87-4c87-c473-b5bfbd122f00"
      },
      "execution_count": null,
      "outputs": [
        {
          "output_type": "stream",
          "name": "stdout",
          "text": [
            "\n",
            "Summary of Results:\n",
            "trend_category\n",
            "Top Anti-trending    242\n",
            "Top Trending          31\n",
            "Neutral               21\n",
            "Anti-trending         11\n",
            "Trending              10\n",
            "Name: count, dtype: int64\n"
          ]
        }
      ]
    },
    {
      "cell_type": "code",
      "source": [
        "# Print top 10 trending items\n",
        "print(\"\\nTop 10 Trending Items:\")\n",
        "top_trending = results[results['trend_category'] == 'Trending'].sort_values('trend_probability', ascending=False)\n",
        "print(top_trending[['trend_probability', 'trend_category'] + list(X_test.columns)].head(10))\n"
      ],
      "metadata": {
        "colab": {
          "base_uri": "https://localhost:8080/"
        },
        "id": "3Yu2J-Px-r2P",
        "outputId": "86417106-80c0-46f9-a894-9951d13d2bc0"
      },
      "execution_count": null,
      "outputs": [
        {
          "output_type": "stream",
          "name": "stdout",
          "text": [
            "\n",
            "Top 10 Trending Items:\n",
            "      trend_probability trend_category  price  price_diff  rating  \\\n",
            "339                0.79       Trending   8.00       17.00    3.65   \n",
            "350                0.79       Trending  14.00       -2.00    3.75   \n",
            "433                0.78       Trending   2.00        1.00    4.09   \n",
            "1463               0.76       Trending   6.00       11.00    4.24   \n",
            "500                0.75       Trending   8.00       -1.00    3.39   \n",
            "1503               0.74       Trending  14.00       -2.00    3.94   \n",
            "297                0.73       Trending   3.00        0.00    4.12   \n",
            "1106               0.69       Trending   2.00       24.00    4.36   \n",
            "1168               0.68       Trending   5.67       13.33    3.53   \n",
            "1384               0.66       Trending   6.00        4.00    4.06   \n",
            "\n",
            "      rating_count  tag_count  rating_ratio  inventory_total product_color  \\\n",
            "339           2324         18      0.606713               50        yellow   \n",
            "350           1892         18      0.640063               50         black   \n",
            "433           6689         15      0.740768               50         white   \n",
            "1463          1650         14      0.795758               50         white   \n",
            "500           2877         17      0.521029               50             0   \n",
            "1503          1863         14      0.696189               50          pink   \n",
            "297           2826         15      0.749823               50        purple   \n",
            "1106          2942         16      0.818151               50         black   \n",
            "1168         18393         17      0.553091               50          grey   \n",
            "1384          1496         28      0.725267               50         black   \n",
            "\n",
            "       theme crawl_month  \n",
            "339   summer     2020-08  \n",
            "350   summer     2020-08  \n",
            "433   summer     2020-08  \n",
            "1463  summer     2020-08  \n",
            "500   summer     2020-08  \n",
            "1503  summer     2020-08  \n",
            "297   summer     2020-08  \n",
            "1106  summer     2020-08  \n",
            "1168  summer     2020-08  \n",
            "1384  summer     2020-08  \n"
          ]
        }
      ]
    },
    {
      "cell_type": "code",
      "source": [
        "# Print top 10 anti-trending items\n",
        "print(\"\\nTop 10 Anti-trending Items:\")\n",
        "top_anti_trending = results[results['trend_category'] == 'Anti-trending'].sort_values('trend_probability')\n",
        "print(top_anti_trending[['trend_probability', 'trend_category'] + list(X_test.columns)].head(10))\n"
      ],
      "metadata": {
        "colab": {
          "base_uri": "https://localhost:8080/"
        },
        "id": "1T5BY1HM-wAH",
        "outputId": "4b2be34d-0c91-45b9-85fd-92e48b8f9eab"
      },
      "execution_count": null,
      "outputs": [
        {
          "output_type": "stream",
          "name": "stdout",
          "text": [
            "\n",
            "Top 10 Anti-trending Items:\n",
            "      trend_probability trend_category  price  price_diff  rating  \\\n",
            "175                0.16  Anti-trending  11.00       73.00    3.98   \n",
            "1299               0.17  Anti-trending  12.00       90.00    4.11   \n",
            "185                0.17  Anti-trending   5.65       -0.65    4.06   \n",
            "1438               0.17  Anti-trending   8.00       -1.00    3.66   \n",
            "1349               0.18  Anti-trending   8.00      244.00    3.88   \n",
            "767                0.19  Anti-trending  22.00       -3.00    3.66   \n",
            "1388               0.19  Anti-trending   9.00        8.00    4.18   \n",
            "610                0.19  Anti-trending   4.74       15.26    4.05   \n",
            "124                0.20  Anti-trending  12.00       31.00    3.59   \n",
            "669                0.21  Anti-trending  11.00       -1.00    4.25   \n",
            "\n",
            "      rating_count  tag_count  rating_ratio  inventory_total product_color  \\\n",
            "175            792         17      0.708333               50   pink & grey   \n",
            "1299            75         11      0.773333               50          navy   \n",
            "185            998         13      0.729459               50         black   \n",
            "1438           581         18      0.602410               50         white   \n",
            "1349           161         27      0.633540               50         black   \n",
            "767           1103         13      0.615594               50     denimblue   \n",
            "1388            34         24      0.764706               50        purple   \n",
            "610            784         25      0.727041               50         white   \n",
            "124             27         16      0.592593               50     lightpink   \n",
            "669             20         16      0.800000               50    camouflage   \n",
            "\n",
            "       theme crawl_month  \n",
            "175   summer     2020-08  \n",
            "1299  summer     2020-08  \n",
            "185   summer     2020-08  \n",
            "1438  summer     2020-08  \n",
            "1349  summer     2020-08  \n",
            "767   summer     2020-08  \n",
            "1388  summer     2020-08  \n",
            "610   summer     2020-08  \n",
            "124   summer     2020-08  \n",
            "669   summer     2020-08  \n"
          ]
        }
      ]
    },
    {
      "cell_type": "code",
      "source": [
        "# Optional: Save results to CSV\n",
        "results.to_csv('trend_prediction_results1.csv', index=False)\n",
        "print(\"\\nResults saved to 'trend_prediction_results.csv'\")"
      ],
      "metadata": {
        "colab": {
          "base_uri": "https://localhost:8080/"
        },
        "id": "vrG-c0sA-8On",
        "outputId": "ebef6d26-2488-479b-95b6-57faa9c50649"
      },
      "execution_count": null,
      "outputs": [
        {
          "output_type": "stream",
          "name": "stdout",
          "text": [
            "\n",
            "Results saved to 'trend_prediction_results.csv'\n"
          ]
        }
      ]
    },
    {
      "cell_type": "code",
      "source": [
        "# Calculate and print accuracy\n",
        "accuracy = (results['true_label'] == results['predicted_label']).mean()\n",
        "print(f\"\\nModel Accuracy: {accuracy:.2f}\")\n"
      ],
      "metadata": {
        "colab": {
          "base_uri": "https://localhost:8080/"
        },
        "id": "bsztEFrD_ABu",
        "outputId": "8b9eddc3-4a3b-4779-9c82-aab2ed329d1c"
      },
      "execution_count": null,
      "outputs": [
        {
          "output_type": "stream",
          "name": "stdout",
          "text": [
            "\n",
            "Model Accuracy: 0.93\n"
          ]
        }
      ]
    },
    {
      "cell_type": "code",
      "source": [
        "# Print confusion matrix\n",
        "from sklearn.metrics import confusion_matrix\n",
        "cm = confusion_matrix(results['true_label'], results['predicted_label'])\n",
        "print(\"\\nConfusion Matrix:\")\n",
        "print(cm)"
      ],
      "metadata": {
        "colab": {
          "base_uri": "https://localhost:8080/"
        },
        "id": "ixTu6eqJ_EfO",
        "outputId": "5cfe9ae6-3d72-4e81-8af4-3b82cd894244"
      },
      "execution_count": null,
      "outputs": [
        {
          "output_type": "stream",
          "name": "stdout",
          "text": [
            "\n",
            "Confusion Matrix:\n",
            "[[252   8]\n",
            " [ 14  41]]\n"
          ]
        }
      ]
    },
    {
      "cell_type": "code",
      "source": [
        "import matplotlib.pyplot as plt\n",
        "import seaborn as sns\n",
        "\n",
        "plt.figure(figsize=(10,7))\n",
        "sns.heatmap(cm, annot=True, fmt='d')\n",
        "plt.title('Confusion Matrix')\n",
        "plt.ylabel('True Label')\n",
        "plt.xlabel('Predicted Label')\n",
        "plt.show()"
      ],
      "metadata": {
        "colab": {
          "base_uri": "https://localhost:8080/",
          "height": 641
        },
        "id": "oCIemybS_HyX",
        "outputId": "98d1806b-410a-4a48-d882-bac2ef183c40"
      },
      "execution_count": null,
      "outputs": [
        {
          "output_type": "display_data",
          "data": {
            "text/plain": [
              "<Figure size 1000x700 with 2 Axes>"
            ],
            "image/png": "[encoded data removed]"
          },
          "metadata": {}
        }
      ]
    },
    {
      "cell_type": "code",
      "source": [
        "import pandas as pd\n",
        "import matplotlib.pyplot as plt\n",
        "import seaborn as sns\n",
        "\n",
        "# Feature Importance\n",
        "def get_feature_names(column_transformer):\n",
        "    feature_names = []\n",
        "    for name, pipe, features in column_transformer.transformers_:\n",
        "        if name != 'remainder':\n",
        "            if isinstance(pipe, Pipeline):\n",
        "                if isinstance(pipe.steps[-1][1], OneHotEncoder):\n",
        "                    feature_names.extend(pipe.steps[-1][1].get_feature_names_out(features).tolist())\n",
        "                else:\n",
        "                    feature_names.extend(features)\n",
        "            elif isinstance(pipe, OneHotEncoder):\n",
        "                feature_names.extend(pipe.get_feature_names_out(features).tolist())\n",
        "            else:\n",
        "                feature_names.extend(features)\n",
        "    return feature_names\n",
        "\n",
        "feature_names = get_feature_names(pipeline.named_steps['preprocessor'])\n",
        "\n",
        "feature_importance = pd.DataFrame({\n",
        "    'feature': feature_names,\n",
        "    'importance': pipeline.named_steps['classifier'].feature_importances_\n",
        "}).sort_values('importance', ascending=False)\n",
        "\n",
        "print(\"\\nTop 10 Most Important Features:\")\n",
        "print(feature_importance.head(10))\n",
        "\n",
        "# Optional: Visualize feature importance\n",
        "plt.figure(figsize=(10,7))\n",
        "sns.barplot(x='importance', y='feature', data=feature_importance.head(20))\n",
        "plt.title('Top 20 Feature Importances')\n",
        "plt.tight_layout()\n",
        "plt.show()"
      ],
      "metadata": {
        "colab": {
          "base_uri": "https://localhost:8080/",
          "height": 933
        },
        "id": "V-HeniuW_Lzf",
        "outputId": "43e97477-d35f-480d-c8b7-5497dc466ea8"
      },
      "execution_count": null,
      "outputs": [
        {
          "output_type": "stream",
          "name": "stdout",
          "text": [
            "\n",
            "Top 10 Most Important Features:\n",
            "                 feature  importance\n",
            "3           rating_count    0.661098\n",
            "2                 rating    0.066588\n",
            "5           rating_ratio    0.062996\n",
            "0                  price    0.041505\n",
            "4              tag_count    0.041343\n",
            "1             price_diff    0.040416\n",
            "80  product_color_purple    0.006345\n",
            "91   product_color_white    0.005095\n",
            "18   product_color_black    0.004596\n",
            "74    product_color_pink    0.003769\n"
          ]
        },
        {
          "output_type": "display_data",
          "data": {
            "text/plain": [
              "<Figure size 1000x700 with 1 Axes>"
            ],
            "image/png": "[encoded data removed]"
          },
          "metadata": {}
        }
      ]
    },
    {
      "cell_type": "code",
      "source": [
        "def get_recommendations(user_preferences, uniqueness_level):\n",
        "    # Assume we have our trained pipeline and results DataFrame from before\n",
        "\n",
        "    # Filter results based on user preferences (e.g., color, style, etc.)\n",
        "    filtered_results = results[results.apply(lambda row: all(pref in row.values for pref in user_preferences), axis=1)]\n",
        "\n",
        "    # Adjust recommendations based on uniqueness level\n",
        "    if uniqueness_level < 0.3:  # More trendy\n",
        "        recommendations = filtered_results[filtered_results['trend_category'] == 'Trending']\n",
        "    elif uniqueness_level > 0.7:  # More unique\n",
        "        recommendations = filtered_results[filtered_results['trend_category'] == 'Anti-trending']\n",
        "    else:  # Balanced\n",
        "        recommendations = filtered_results\n",
        "    # recommendations['category'] = ['top', 'bottom', 'accessory', 'top', 'bottom'] # Example categories\n",
        "\n",
        "    return recommendations.sort_values('trend_probability', ascending=(uniqueness_level > 0.5))\n",
        "\n",
        "# Example usage\n",
        "user_prefs = ['summer', 'casual']\n",
        "uniqueness = 0.1  # User wants very unique outfits\n",
        "recommendations = get_recommendations(user_prefs, uniqueness)\n",
        "print(recommendations.head())"
      ],
      "metadata": {
        "colab": {
          "base_uri": "https://localhost:8080/"
        },
        "id": "N0fgoYVmB-X4",
        "outputId": "f3580870-47d7-4952-c1c4-e69e87f2b78b"
      },
      "execution_count": null,
      "outputs": [
        {
          "output_type": "stream",
          "name": "stdout",
          "text": [
            "Empty DataFrame\n",
            "Columns: [price, price_diff, rating, rating_count, tag_count, rating_ratio, inventory_total, product_color, theme, crawl_month, true_label, predicted_label, trend_probability, trend_category]\n",
            "Index: []\n"
          ]
        }
      ]
    },
    {
      "cell_type": "code",
      "source": [
        "def get_recommendations(user_preferences, uniqueness_level, results):\n",
        "    print(f\"Initial results shape: {results.shape}\")\n",
        "\n",
        "    # Filter results based on user preferences (e.g., color, style, etc.)\n",
        "    filtered_results = results[results.apply(lambda row: any(pref.lower() in str(row.values).lower() for pref in user_preferences), axis=1)]\n",
        "    print(f\"After preference filtering: {filtered_results.shape}\")\n",
        "\n",
        "    # Adjust recommendations based on uniqueness level\n",
        "    if uniqueness_level < 0.3:  # More trendy\n",
        "        recommendations = filtered_results[filtered_results['trend_category'].isin(['Trending', 'Top Trending'])]\n",
        "    elif uniqueness_level > 0.7:  # More unique\n",
        "        recommendations = filtered_results[filtered_results['trend_category'].isin(['Anti-trending', 'Top Anti-trending'])]\n",
        "    else:  # Balanced\n",
        "        recommendations = filtered_results\n",
        "\n",
        "    print(f\"After trend filtering: {recommendations.shape}\")\n",
        "\n",
        "    if recommendations.empty:\n",
        "        print(\"No recommendations found. Returning all filtered results.\")\n",
        "        recommendations = filtered_results\n",
        "\n",
        "    return recommendations.sort_values('trend_probability', ascending=(uniqueness_level > 0.5))\n",
        "\n",
        "# Example usage\n",
        "user_prefs = ['summer', 'casual']\n",
        "uniqueness = 0.1  # User wants very trendy outfits\n",
        "\n",
        "try:\n",
        "    recommendations = get_recommendations(user_prefs, uniqueness, results)\n",
        "    if not recommendations.empty:\n",
        "        print(\"\\nTop 5 Recommendations:\")\n",
        "        print(recommendations[['trend_probability', 'trend_category'] + list(results.columns)].head())\n",
        "    else:\n",
        "        print(\"No recommendations found.\")\n",
        "except Exception as e:\n",
        "    print(f\"An error occurred: {str(e)}\")\n",
        "\n",
        "# Debugging: Check for the presence of user preferences in the data\n",
        "for pref in user_prefs:\n",
        "    print(f\"'{pref}' found in data: {any(results.apply(lambda row: pref.lower() in str(row.values).lower(), axis=1))}\")"
      ],
      "metadata": {
        "colab": {
          "base_uri": "https://localhost:8080/"
        },
        "id": "nBDc0J_4LLw5",
        "outputId": "c83a30de-1fa9-4e2b-dd49-75990cdd43c9"
      },
      "execution_count": null,
      "outputs": [
        {
          "output_type": "stream",
          "name": "stdout",
          "text": [
            "Initial results shape: (315, 14)\n",
            "After preference filtering: (315, 14)\n",
            "After trend filtering: (41, 14)\n",
            "\n",
            "Top 5 Recommendations:\n",
            "      trend_probability trend_category  price  price_diff  rating  \\\n",
            "811                0.98   Top Trending   8.00       -1.00    3.82   \n",
            "1208               0.97   Top Trending   3.92        0.08    3.76   \n",
            "1237               0.96   Top Trending   8.00       -1.00    3.63   \n",
            "1007               0.95   Top Trending   8.00       -1.00    4.14   \n",
            "654                0.95   Top Trending  11.00        3.00    3.76   \n",
            "\n",
            "      rating_count  tag_count  rating_ratio  inventory_total product_color  \\\n",
            "811           2520         13      0.655952               50        orange   \n",
            "1208          4367         14      0.633845               50         black   \n",
            "1237          2058         14      0.593294               50         black   \n",
            "1007          2737         21      0.769456               50          Pink   \n",
            "654           8029         14      0.646531               50         black   \n",
            "\n",
            "       theme crawl_month  true_label  predicted_label  trend_probability  \\\n",
            "811   summer     2020-08           1                1               0.98   \n",
            "1208  summer     2020-08           1                1               0.97   \n",
            "1237  summer     2020-08           1                1               0.96   \n",
            "1007  summer     2020-08           0                1               0.95   \n",
            "654   summer     2020-08           1                1               0.95   \n",
            "\n",
            "     trend_category  \n",
            "811    Top Trending  \n",
            "1208   Top Trending  \n",
            "1237   Top Trending  \n",
            "1007   Top Trending  \n",
            "654    Top Trending  \n",
            "'summer' found in data: True\n",
            "'casual' found in data: False\n"
          ]
        }
      ]
    },
    {
      "cell_type": "code",
      "source": [
        "def display_style_comparison(item):\n",
        "    trending_items = results[results['trend_category'] == 'Trending']\n",
        "    anti_trending_items = results[results['trend_category'] == 'Anti-trending']\n",
        "\n",
        "    # Find similar trendy and anti-trendy items\n",
        "    similar_trendy = find_similar_items(item, trending_items)\n",
        "    similar_anti_trendy = find_similar_items(item, anti_trending_items)\n",
        "\n",
        "    print(\"Popular style:\")\n",
        "    print(similar_trendy.iloc[0])\n",
        "    print(\"\\nUnique twist:\")\n",
        "    print(similar_anti_trendy.iloc[0])\n",
        "\n",
        "def find_similar_items(item, item_pool):\n",
        "    # Implement similarity measure (e.g., based on features)\n",
        "    # This is a simplified version\n",
        "    return item_pool.iloc[(item_pool[numeric_features] - item[numeric_features]).abs().sum(axis=1).argsort()]\n",
        "\n",
        "# Example usage\n",
        "selected_item = results.iloc[0]  # Just an example\n",
        "display_style_comparison(selected_item)"
      ],
      "metadata": {
        "colab": {
          "base_uri": "https://localhost:8080/"
        },
        "id": "P5ttWO-cCStW",
        "outputId": "f8c315f0-b494-4f6b-bc0a-a41a8cdd5f04"
      },
      "execution_count": null,
      "outputs": [
        {
          "output_type": "stream",
          "name": "stdout",
          "text": [
            "Popular style:\n",
            "price                     6.0\n",
            "price_diff                4.0\n",
            "rating                   4.06\n",
            "rating_count             1496\n",
            "tag_count                  28\n",
            "rating_ratio         0.725267\n",
            "inventory_total            50\n",
            "product_color           black\n",
            "theme                  summer\n",
            "crawl_month           2020-08\n",
            "true_label                  1\n",
            "predicted_label             1\n",
            "trend_probability        0.66\n",
            "trend_category       Trending\n",
            "Name: 1384, dtype: object\n",
            "\n",
            "Unique twist:\n",
            "price                          8.0\n",
            "price_diff                    -1.0\n",
            "rating                        4.57\n",
            "rating_count                     7\n",
            "tag_count                       16\n",
            "rating_ratio              0.857143\n",
            "inventory_total                 50\n",
            "product_color        black & white\n",
            "theme                       summer\n",
            "crawl_month                2020-08\n",
            "true_label                       0\n",
            "predicted_label                  0\n",
            "trend_probability             0.21\n",
            "trend_category       Anti-trending\n",
            "Name: 218, dtype: object\n"
          ]
        }
      ]
    },
    {
      "cell_type": "code",
      "source": [
        "from google.colab import files\n",
        "\n",
        "files.download('trend_prediction_results1.csv')"
      ],
      "metadata": {
        "colab": {
          "base_uri": "https://localhost:8080/",
          "height": 297
        },
        "id": "S-nzjB62_Q0P",
        "outputId": "c072ed69-f1a4-4efd-8684-31749510eed4"
      },
      "execution_count": null,
      "outputs": [
        {
          "output_type": "error",
          "ename": "FileNotFoundError",
          "evalue": "Cannot find file: trend_prediction_results1.csv",
          "traceback": [
            "\u001b[0;31m---------------------------------------------------------------------------\u001b[0m",
            "\u001b[0;31mFileNotFoundError\u001b[0m                         Traceback (most recent call last)",
            "\u001b[0;32m<ipython-input-2-b63db1e08664>\u001b[0m in \u001b[0;36m<cell line: 3>\u001b[0;34m()\u001b[0m\n\u001b[1;32m      1\u001b[0m \u001b[0;32mfrom\u001b[0m \u001b[0mgoogle\u001b[0m\u001b[0;34m.\u001b[0m\u001b[0mcolab\u001b[0m \u001b[0;32mimport\u001b[0m \u001b[0mfiles\u001b[0m\u001b[0;34m\u001b[0m\u001b[0;34m\u001b[0m\u001b[0m\n\u001b[1;32m      2\u001b[0m \u001b[0;34m\u001b[0m\u001b[0m\n\u001b[0;32m----> 3\u001b[0;31m \u001b[0mfiles\u001b[0m\u001b[0;34m.\u001b[0m\u001b[0mdownload\u001b[0m\u001b[0;34m(\u001b[0m\u001b[0;34m'trend_prediction_results1.csv'\u001b[0m\u001b[0;34m)\u001b[0m\u001b[0;34m\u001b[0m\u001b[0;34m\u001b[0m\u001b[0m\n\u001b[0m",
            "\u001b[0;32m/usr/local/lib/python3.10/dist-packages/google/colab/files.py\u001b[0m in \u001b[0;36mdownload\u001b[0;34m(filename)\u001b[0m\n\u001b[1;32m    223\u001b[0m   \u001b[0;32mif\u001b[0m \u001b[0;32mnot\u001b[0m \u001b[0m_os\u001b[0m\u001b[0;34m.\u001b[0m\u001b[0mpath\u001b[0m\u001b[0;34m.\u001b[0m\u001b[0mexists\u001b[0m\u001b[0;34m(\u001b[0m\u001b[0mfilename\u001b[0m\u001b[0;34m)\u001b[0m\u001b[0;34m:\u001b[0m\u001b[0;34m\u001b[0m\u001b[0;34m\u001b[0m\u001b[0m\n\u001b[1;32m    224\u001b[0m     \u001b[0mmsg\u001b[0m \u001b[0;34m=\u001b[0m \u001b[0;34m'Cannot find file: {}'\u001b[0m\u001b[0;34m.\u001b[0m\u001b[0mformat\u001b[0m\u001b[0;34m(\u001b[0m\u001b[0mfilename\u001b[0m\u001b[0;34m)\u001b[0m\u001b[0;34m\u001b[0m\u001b[0;34m\u001b[0m\u001b[0m\n\u001b[0;32m--> 225\u001b[0;31m     \u001b[0;32mraise\u001b[0m \u001b[0mFileNotFoundError\u001b[0m\u001b[0;34m(\u001b[0m\u001b[0mmsg\u001b[0m\u001b[0;34m)\u001b[0m  \u001b[0;31m# pylint: disable=undefined-variable\u001b[0m\u001b[0;34m\u001b[0m\u001b[0;34m\u001b[0m\u001b[0m\n\u001b[0m\u001b[1;32m    226\u001b[0m \u001b[0;34m\u001b[0m\u001b[0m\n\u001b[1;32m    227\u001b[0m   \u001b[0mcomm_manager\u001b[0m \u001b[0;34m=\u001b[0m \u001b[0m_IPython\u001b[0m\u001b[0;34m.\u001b[0m\u001b[0mget_ipython\u001b[0m\u001b[0;34m(\u001b[0m\u001b[0;34m)\u001b[0m\u001b[0;34m.\u001b[0m\u001b[0mkernel\u001b[0m\u001b[0;34m.\u001b[0m\u001b[0mcomm_manager\u001b[0m\u001b[0;34m\u001b[0m\u001b[0;34m\u001b[0m\u001b[0m\n",
            "\u001b[0;31mFileNotFoundError\u001b[0m: Cannot find file: trend_prediction_results1.csv"
          ]
        }
      ]
    },
    {
      "cell_type": "code",
      "source": [],
      "metadata": {
        "id": "1Bg-qAjhdLSY"
      },
      "execution_count": null,
      "outputs": []
    },
    {
      "cell_type": "code",
      "source": [],
      "metadata": {
        "id": "m5crLzsfKzAY"
      },
      "execution_count": null,
      "outputs": []
    },
    {
      "cell_type": "code",
      "source": [],
      "metadata": {
        "id": "7-LRuNl1dh6a"
      },
      "execution_count": null,
      "outputs": []
    },
    {
      "cell_type": "code",
      "source": [],
      "metadata": {
        "id": "IhShMD6xerjS"
      },
      "execution_count": null,
      "outputs": []
    }
  ]
}